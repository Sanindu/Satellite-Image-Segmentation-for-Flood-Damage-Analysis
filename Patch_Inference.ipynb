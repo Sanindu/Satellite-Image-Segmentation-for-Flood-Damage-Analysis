{
  "nbformat": 4,
  "nbformat_minor": 0,
  "metadata": {
    "colab": {
      "name": "Patch-Inference.ipynb",
      "provenance": [],
      "collapsed_sections": []
    },
    "kernelspec": {
      "name": "python3",
      "display_name": "Python 3"
    },
    "widgets": {
      "application/vnd.jupyter.widget-state+json": {
        "04429f5b86fb4091be0ce401a55268ab": {
          "model_module": "@jupyter-widgets/controls",
          "model_name": "FileUploadModel",
          "state": {
            "_view_name": "FileUploadView",
            "_counter": 1,
            "style": "IPY_MODEL_71635940319d4a4bb7b3b6aa82eb9e35",
            "_dom_classes": [],
            "description": "Upload",
            "multiple": false,
            "_model_name": "FileUploadModel",
            "data": [
              null
            ],
            "button_style": "",
            "_view_module": "@jupyter-widgets/controls",
            "_model_module_version": "1.5.0",
            "accept": "",
            "_view_count": null,
            "disabled": false,
            "_view_module_version": "1.5.0",
            "error": "",
            "description_tooltip": null,
            "metadata": [
              {
                "name": "vhr.tif",
                "type": "image/tiff",
                "size": 13410871,
                "lastModified": 1603357044382
              }
            ],
            "_model_module": "@jupyter-widgets/controls",
            "layout": "IPY_MODEL_30b107932c0e444d8a6ac964726f9907",
            "icon": "upload"
          }
        },
        "71635940319d4a4bb7b3b6aa82eb9e35": {
          "model_module": "@jupyter-widgets/controls",
          "model_name": "ButtonStyleModel",
          "state": {
            "_view_name": "StyleView",
            "_model_name": "ButtonStyleModel",
            "_view_module": "@jupyter-widgets/base",
            "_model_module_version": "1.5.0",
            "_view_count": null,
            "button_color": null,
            "font_weight": "",
            "_view_module_version": "1.2.0",
            "_model_module": "@jupyter-widgets/controls"
          }
        },
        "30b107932c0e444d8a6ac964726f9907": {
          "model_module": "@jupyter-widgets/base",
          "model_name": "LayoutModel",
          "state": {
            "_view_name": "LayoutView",
            "grid_template_rows": null,
            "right": null,
            "justify_content": null,
            "_view_module": "@jupyter-widgets/base",
            "overflow": null,
            "_model_module_version": "1.2.0",
            "_view_count": null,
            "flex_flow": null,
            "width": null,
            "min_width": null,
            "border": null,
            "align_items": null,
            "bottom": null,
            "_model_module": "@jupyter-widgets/base",
            "top": null,
            "grid_column": null,
            "overflow_y": null,
            "overflow_x": null,
            "grid_auto_flow": null,
            "grid_area": null,
            "grid_template_columns": null,
            "flex": null,
            "_model_name": "LayoutModel",
            "justify_items": null,
            "grid_row": null,
            "max_height": null,
            "align_content": null,
            "visibility": null,
            "align_self": null,
            "height": null,
            "min_height": null,
            "padding": null,
            "grid_auto_rows": null,
            "grid_gap": null,
            "max_width": null,
            "order": null,
            "_view_module_version": "1.2.0",
            "grid_template_areas": null,
            "object_position": null,
            "object_fit": null,
            "grid_auto_columns": null,
            "margin": null,
            "display": null,
            "left": null
          }
        },
        "3d2be371e3d54a3d9f96f895f4b816a3": {
          "model_module": "@jupyter-widgets/output",
          "model_name": "OutputModel",
          "state": {
            "_view_name": "OutputView",
            "msg_id": "",
            "_dom_classes": [],
            "_model_name": "OutputModel",
            "outputs": [],
            "_view_module": "@jupyter-widgets/output",
            "_model_module_version": "1.0.0",
            "_view_count": null,
            "_view_module_version": "1.0.0",
            "layout": "IPY_MODEL_b03691a40b194f378a6fa370788f1169",
            "_model_module": "@jupyter-widgets/output"
          }
        },
        "b03691a40b194f378a6fa370788f1169": {
          "model_module": "@jupyter-widgets/base",
          "model_name": "LayoutModel",
          "state": {
            "_view_name": "LayoutView",
            "grid_template_rows": null,
            "right": null,
            "justify_content": null,
            "_view_module": "@jupyter-widgets/base",
            "overflow": null,
            "_model_module_version": "1.2.0",
            "_view_count": null,
            "flex_flow": null,
            "width": null,
            "min_width": null,
            "border": null,
            "align_items": null,
            "bottom": null,
            "_model_module": "@jupyter-widgets/base",
            "top": null,
            "grid_column": null,
            "overflow_y": null,
            "overflow_x": null,
            "grid_auto_flow": null,
            "grid_area": null,
            "grid_template_columns": null,
            "flex": null,
            "_model_name": "LayoutModel",
            "justify_items": null,
            "grid_row": null,
            "max_height": null,
            "align_content": null,
            "visibility": null,
            "align_self": null,
            "height": null,
            "min_height": null,
            "padding": null,
            "grid_auto_rows": null,
            "grid_gap": null,
            "max_width": null,
            "order": null,
            "_view_module_version": "1.2.0",
            "grid_template_areas": null,
            "object_position": null,
            "object_fit": null,
            "grid_auto_columns": null,
            "margin": null,
            "display": null,
            "left": null
          }
        },
        "266044cef2154b87917005a1584bcffd": {
          "model_module": "@jupyter-widgets/controls",
          "model_name": "VBoxModel",
          "state": {
            "_view_name": "VBoxView",
            "_dom_classes": [],
            "_model_name": "VBoxModel",
            "_view_module": "@jupyter-widgets/controls",
            "_model_module_version": "1.5.0",
            "_view_count": null,
            "_view_module_version": "1.5.0",
            "box_style": "",
            "layout": "IPY_MODEL_bbab14555e0343689bd51d1633f74d05",
            "_model_module": "@jupyter-widgets/controls",
            "children": [
              "IPY_MODEL_0e36699f13e74f888ce2e33cce2fb169",
              "IPY_MODEL_04429f5b86fb4091be0ce401a55268ab",
              "IPY_MODEL_3d2be371e3d54a3d9f96f895f4b816a3",
              "IPY_MODEL_f33635b005894dfd9077ac277e123683",
              "IPY_MODEL_b96f64ac354f40feb976866361d9b713",
              "IPY_MODEL_77d2a26876d74dd2a5dd7187d297017d"
            ]
          }
        },
        "bbab14555e0343689bd51d1633f74d05": {
          "model_module": "@jupyter-widgets/base",
          "model_name": "LayoutModel",
          "state": {
            "_view_name": "LayoutView",
            "grid_template_rows": null,
            "right": null,
            "justify_content": null,
            "_view_module": "@jupyter-widgets/base",
            "overflow": null,
            "_model_module_version": "1.2.0",
            "_view_count": null,
            "flex_flow": null,
            "width": null,
            "min_width": null,
            "border": null,
            "align_items": null,
            "bottom": null,
            "_model_module": "@jupyter-widgets/base",
            "top": null,
            "grid_column": null,
            "overflow_y": null,
            "overflow_x": null,
            "grid_auto_flow": null,
            "grid_area": null,
            "grid_template_columns": null,
            "flex": null,
            "_model_name": "LayoutModel",
            "justify_items": null,
            "grid_row": null,
            "max_height": null,
            "align_content": null,
            "visibility": null,
            "align_self": null,
            "height": null,
            "min_height": null,
            "padding": null,
            "grid_auto_rows": null,
            "grid_gap": null,
            "max_width": null,
            "order": null,
            "_view_module_version": "1.2.0",
            "grid_template_areas": null,
            "object_position": null,
            "object_fit": null,
            "grid_auto_columns": null,
            "margin": null,
            "display": null,
            "left": null
          }
        },
        "0e36699f13e74f888ce2e33cce2fb169": {
          "model_module": "@jupyter-widgets/controls",
          "model_name": "LabelModel",
          "state": {
            "_view_name": "LabelView",
            "style": "IPY_MODEL_b4ef7d073f13475a962e478ec6523d42",
            "_dom_classes": [],
            "description": "",
            "_model_name": "LabelModel",
            "placeholder": "​",
            "_view_module": "@jupyter-widgets/controls",
            "_model_module_version": "1.5.0",
            "value": "Select the map image",
            "_view_count": null,
            "_view_module_version": "1.5.0",
            "description_tooltip": null,
            "_model_module": "@jupyter-widgets/controls",
            "layout": "IPY_MODEL_d7d6a02cad7845568c07be7b4da223b9"
          }
        },
        "f33635b005894dfd9077ac277e123683": {
          "model_module": "@jupyter-widgets/controls",
          "model_name": "ButtonModel",
          "state": {
            "_view_name": "ButtonView",
            "style": "IPY_MODEL_56872a0bc2024d6d83e20917ca605af4",
            "_dom_classes": [],
            "description": "Segment",
            "_model_name": "ButtonModel",
            "button_style": "",
            "_view_module": "@jupyter-widgets/controls",
            "_model_module_version": "1.5.0",
            "tooltip": "",
            "_view_count": null,
            "disabled": false,
            "_view_module_version": "1.5.0",
            "layout": "IPY_MODEL_47df5121d7f34b28a4ce92ee03f43672",
            "_model_module": "@jupyter-widgets/controls",
            "icon": ""
          }
        },
        "b96f64ac354f40feb976866361d9b713": {
          "model_module": "@jupyter-widgets/controls",
          "model_name": "ButtonModel",
          "state": {
            "_view_name": "ButtonView",
            "style": "IPY_MODEL_38a0b1262de5428499eb0df1b3ac115a",
            "_dom_classes": [],
            "description": "Damaged Segment",
            "_model_name": "ButtonModel",
            "button_style": "",
            "_view_module": "@jupyter-widgets/controls",
            "_model_module_version": "1.5.0",
            "tooltip": "",
            "_view_count": null,
            "disabled": false,
            "_view_module_version": "1.5.0",
            "layout": "IPY_MODEL_fa75ce169d54454e9fc96f407031616d",
            "_model_module": "@jupyter-widgets/controls",
            "icon": ""
          }
        },
        "77d2a26876d74dd2a5dd7187d297017d": {
          "model_module": "@jupyter-widgets/controls",
          "model_name": "LabelModel",
          "state": {
            "_view_name": "LabelView",
            "style": "IPY_MODEL_280bb15d92624839bf91ab5f39a05a90",
            "_dom_classes": [],
            "description": "",
            "_model_name": "LabelModel",
            "placeholder": "​",
            "_view_module": "@jupyter-widgets/controls",
            "_model_module_version": "1.5.0",
            "value": "Choose Image File",
            "_view_count": null,
            "_view_module_version": "1.5.0",
            "description_tooltip": null,
            "_model_module": "@jupyter-widgets/controls",
            "layout": "IPY_MODEL_5a73e3f00e584a769a3ec28beb087a30"
          }
        },
        "b4ef7d073f13475a962e478ec6523d42": {
          "model_module": "@jupyter-widgets/controls",
          "model_name": "DescriptionStyleModel",
          "state": {
            "_view_name": "StyleView",
            "_model_name": "DescriptionStyleModel",
            "description_width": "",
            "_view_module": "@jupyter-widgets/base",
            "_model_module_version": "1.5.0",
            "_view_count": null,
            "_view_module_version": "1.2.0",
            "_model_module": "@jupyter-widgets/controls"
          }
        },
        "d7d6a02cad7845568c07be7b4da223b9": {
          "model_module": "@jupyter-widgets/base",
          "model_name": "LayoutModel",
          "state": {
            "_view_name": "LayoutView",
            "grid_template_rows": null,
            "right": null,
            "justify_content": null,
            "_view_module": "@jupyter-widgets/base",
            "overflow": null,
            "_model_module_version": "1.2.0",
            "_view_count": null,
            "flex_flow": null,
            "width": null,
            "min_width": null,
            "border": null,
            "align_items": null,
            "bottom": null,
            "_model_module": "@jupyter-widgets/base",
            "top": null,
            "grid_column": null,
            "overflow_y": null,
            "overflow_x": null,
            "grid_auto_flow": null,
            "grid_area": null,
            "grid_template_columns": null,
            "flex": null,
            "_model_name": "LayoutModel",
            "justify_items": null,
            "grid_row": null,
            "max_height": null,
            "align_content": null,
            "visibility": null,
            "align_self": null,
            "height": null,
            "min_height": null,
            "padding": null,
            "grid_auto_rows": null,
            "grid_gap": null,
            "max_width": null,
            "order": null,
            "_view_module_version": "1.2.0",
            "grid_template_areas": null,
            "object_position": null,
            "object_fit": null,
            "grid_auto_columns": null,
            "margin": null,
            "display": null,
            "left": null
          }
        },
        "56872a0bc2024d6d83e20917ca605af4": {
          "model_module": "@jupyter-widgets/controls",
          "model_name": "ButtonStyleModel",
          "state": {
            "_view_name": "StyleView",
            "_model_name": "ButtonStyleModel",
            "_view_module": "@jupyter-widgets/base",
            "_model_module_version": "1.5.0",
            "_view_count": null,
            "button_color": null,
            "font_weight": "",
            "_view_module_version": "1.2.0",
            "_model_module": "@jupyter-widgets/controls"
          }
        },
        "47df5121d7f34b28a4ce92ee03f43672": {
          "model_module": "@jupyter-widgets/base",
          "model_name": "LayoutModel",
          "state": {
            "_view_name": "LayoutView",
            "grid_template_rows": null,
            "right": null,
            "justify_content": null,
            "_view_module": "@jupyter-widgets/base",
            "overflow": null,
            "_model_module_version": "1.2.0",
            "_view_count": null,
            "flex_flow": null,
            "width": null,
            "min_width": null,
            "border": null,
            "align_items": null,
            "bottom": null,
            "_model_module": "@jupyter-widgets/base",
            "top": null,
            "grid_column": null,
            "overflow_y": null,
            "overflow_x": null,
            "grid_auto_flow": null,
            "grid_area": null,
            "grid_template_columns": null,
            "flex": null,
            "_model_name": "LayoutModel",
            "justify_items": null,
            "grid_row": null,
            "max_height": null,
            "align_content": null,
            "visibility": null,
            "align_self": null,
            "height": null,
            "min_height": null,
            "padding": null,
            "grid_auto_rows": null,
            "grid_gap": null,
            "max_width": null,
            "order": null,
            "_view_module_version": "1.2.0",
            "grid_template_areas": null,
            "object_position": null,
            "object_fit": null,
            "grid_auto_columns": null,
            "margin": null,
            "display": null,
            "left": null
          }
        },
        "38a0b1262de5428499eb0df1b3ac115a": {
          "model_module": "@jupyter-widgets/controls",
          "model_name": "ButtonStyleModel",
          "state": {
            "_view_name": "StyleView",
            "_model_name": "ButtonStyleModel",
            "_view_module": "@jupyter-widgets/base",
            "_model_module_version": "1.5.0",
            "_view_count": null,
            "button_color": null,
            "font_weight": "",
            "_view_module_version": "1.2.0",
            "_model_module": "@jupyter-widgets/controls"
          }
        },
        "fa75ce169d54454e9fc96f407031616d": {
          "model_module": "@jupyter-widgets/base",
          "model_name": "LayoutModel",
          "state": {
            "_view_name": "LayoutView",
            "grid_template_rows": null,
            "right": null,
            "justify_content": null,
            "_view_module": "@jupyter-widgets/base",
            "overflow": null,
            "_model_module_version": "1.2.0",
            "_view_count": null,
            "flex_flow": null,
            "width": null,
            "min_width": null,
            "border": null,
            "align_items": null,
            "bottom": null,
            "_model_module": "@jupyter-widgets/base",
            "top": null,
            "grid_column": null,
            "overflow_y": null,
            "overflow_x": null,
            "grid_auto_flow": null,
            "grid_area": null,
            "grid_template_columns": null,
            "flex": null,
            "_model_name": "LayoutModel",
            "justify_items": null,
            "grid_row": null,
            "max_height": null,
            "align_content": null,
            "visibility": null,
            "align_self": null,
            "height": null,
            "min_height": null,
            "padding": null,
            "grid_auto_rows": null,
            "grid_gap": null,
            "max_width": null,
            "order": null,
            "_view_module_version": "1.2.0",
            "grid_template_areas": null,
            "object_position": null,
            "object_fit": null,
            "grid_auto_columns": null,
            "margin": null,
            "display": null,
            "left": null
          }
        },
        "280bb15d92624839bf91ab5f39a05a90": {
          "model_module": "@jupyter-widgets/controls",
          "model_name": "DescriptionStyleModel",
          "state": {
            "_view_name": "StyleView",
            "_model_name": "DescriptionStyleModel",
            "description_width": "",
            "_view_module": "@jupyter-widgets/base",
            "_model_module_version": "1.5.0",
            "_view_count": null,
            "_view_module_version": "1.2.0",
            "_model_module": "@jupyter-widgets/controls"
          }
        },
        "5a73e3f00e584a769a3ec28beb087a30": {
          "model_module": "@jupyter-widgets/base",
          "model_name": "LayoutModel",
          "state": {
            "_view_name": "LayoutView",
            "grid_template_rows": null,
            "right": null,
            "justify_content": null,
            "_view_module": "@jupyter-widgets/base",
            "overflow": null,
            "_model_module_version": "1.2.0",
            "_view_count": null,
            "flex_flow": null,
            "width": null,
            "min_width": null,
            "border": null,
            "align_items": null,
            "bottom": null,
            "_model_module": "@jupyter-widgets/base",
            "top": null,
            "grid_column": null,
            "overflow_y": null,
            "overflow_x": null,
            "grid_auto_flow": null,
            "grid_area": null,
            "grid_template_columns": null,
            "flex": null,
            "_model_name": "LayoutModel",
            "justify_items": null,
            "grid_row": null,
            "max_height": null,
            "align_content": null,
            "visibility": null,
            "align_self": null,
            "height": null,
            "min_height": null,
            "padding": null,
            "grid_auto_rows": null,
            "grid_gap": null,
            "max_width": null,
            "order": null,
            "_view_module_version": "1.2.0",
            "grid_template_areas": null,
            "object_position": null,
            "object_fit": null,
            "grid_auto_columns": null,
            "margin": null,
            "display": null,
            "left": null
          }
        }
      }
    }
  },
  "cells": [
    {
      "cell_type": "code",
      "metadata": {
        "id": "XqQOlEu6qXmK",
        "outputId": "bc2dc285-0858-4d55-f8d6-e69a70a74501",
        "colab": {
          "base_uri": "https://localhost:8080/",
          "height": 221
        }
      },
      "source": [
        "!pip install -Uqq fastbook\n",
        "import fastbook\n",
        "fastbook.setup_book()"
      ],
      "execution_count": null,
      "outputs": [
        {
          "output_type": "stream",
          "text": [
            "\u001b[K     |████████████████████████████████| 727kB 6.8MB/s \n",
            "\u001b[K     |████████████████████████████████| 51kB 3.0MB/s \n",
            "\u001b[K     |████████████████████████████████| 1.0MB 22.0MB/s \n",
            "\u001b[K     |████████████████████████████████| 194kB 46.0MB/s \n",
            "\u001b[K     |████████████████████████████████| 51kB 5.7MB/s \n",
            "\u001b[K     |████████████████████████████████| 40kB 4.5MB/s \n",
            "\u001b[K     |████████████████████████████████| 92kB 8.4MB/s \n",
            "\u001b[K     |████████████████████████████████| 51kB 5.2MB/s \n",
            "\u001b[K     |████████████████████████████████| 61kB 7.0MB/s \n",
            "\u001b[K     |████████████████████████████████| 51kB 5.9MB/s \n",
            "\u001b[K     |████████████████████████████████| 2.6MB 47.3MB/s \n",
            "\u001b[?25hMounted at /content/gdrive\n"
          ],
          "name": "stdout"
        }
      ]
    },
    {
      "cell_type": "code",
      "metadata": {
        "id": "upSkblcNrNza",
        "outputId": "5664772e-61b2-44b3-b9c9-5d8accd5dcc2",
        "colab": {
          "base_uri": "https://localhost:8080/",
          "height": 34
        }
      },
      "source": [
        "from google.colab import drive\n",
        "drive.mount('/content/drive')"
      ],
      "execution_count": null,
      "outputs": [
        {
          "output_type": "stream",
          "text": [
            "Mounted at /content/drive\n"
          ],
          "name": "stdout"
        }
      ]
    },
    {
      "cell_type": "code",
      "metadata": {
        "id": "WIvKpPvKqwkZ"
      },
      "source": [
        "from fastai.vision.all import *\n",
        "from fastai.data.all import *\n",
        "from fastai.imports import *\n",
        "from fastai.vision.core import *\n",
        "from fastai import metrics\n",
        "import scipy\n",
        "from scipy import ndimage"
      ],
      "execution_count": null,
      "outputs": []
    },
    {
      "cell_type": "code",
      "metadata": {
        "id": "M13ZRedbrin-"
      },
      "source": [
        "def get_tuple_files(path):\n",
        "    files = get_image_files(path)\n",
        "    files = files.filter(lambda f: f.name.endswith('vhr.tif'),negate=False)\n",
        "    return files\n"
      ],
      "execution_count": null,
      "outputs": []
    },
    {
      "cell_type": "code",
      "metadata": {
        "id": "NgXk5bLhrjc5"
      },
      "source": [
        "def label_func(x):\n",
        "      return str(x.parents[0]/x.stem[0:23])+\"_mask_build.tif\";"
      ],
      "execution_count": null,
      "outputs": []
    },
    {
      "cell_type": "code",
      "metadata": {
        "id": "_JLB-Tsuqwix"
      },
      "source": [
        "model_build= load_learner(Path('/content/drive/My Drive/patch-build.pkl'),cpu = True)\n",
        "\n",
        "model_flood= load_learner(Path('/content/drive/My Drive/patch-flooded.pkl'),cpu = True)\n"
      ],
      "execution_count": null,
      "outputs": []
    },
    {
      "cell_type": "code",
      "metadata": {
        "id": "onLUH5TFrwWy"
      },
      "source": [
        "im=PILImage.create(\"/content/drive/My Drive/E246000N3305300UTM15R/vhr.tif\")"
      ],
      "execution_count": null,
      "outputs": []
    },
    {
      "cell_type": "code",
      "metadata": {
        "id": "97x4784BuPdr",
        "outputId": "bab7c531-f6b2-488d-cbb2-c0bfb073acef",
        "colab": {
          "base_uri": "https://localhost:8080/",
          "height": 17
        }
      },
      "source": [
        "x1=torch.cat([model_build.predict(im1)[0],model_build.predict(im2)[0]],dim=1)\n",
        "x2=torch.cat([model_build.predict(im3)[0],model_build.predict(im4)[0]],dim=1)\n",
        "x=torch.cat([x1,x2],dim=0)"
      ],
      "execution_count": null,
      "outputs": [
        {
          "output_type": "display_data",
          "data": {
            "text/html": [
              ""
            ],
            "text/plain": [
              "<IPython.core.display.HTML object>"
            ]
          },
          "metadata": {
            "tags": []
          }
        },
        {
          "output_type": "display_data",
          "data": {
            "text/html": [
              ""
            ],
            "text/plain": [
              "<IPython.core.display.HTML object>"
            ]
          },
          "metadata": {
            "tags": []
          }
        },
        {
          "output_type": "display_data",
          "data": {
            "text/html": [
              ""
            ],
            "text/plain": [
              "<IPython.core.display.HTML object>"
            ]
          },
          "metadata": {
            "tags": []
          }
        },
        {
          "output_type": "display_data",
          "data": {
            "text/html": [
              ""
            ],
            "text/plain": [
              "<IPython.core.display.HTML object>"
            ]
          },
          "metadata": {
            "tags": []
          }
        }
      ]
    },
    {
      "cell_type": "code",
      "metadata": {
        "id": "3y8-uXlgsJkD",
        "outputId": "6ed7210c-1b46-4103-e5fd-ff89ebe7e656",
        "colab": {
          "base_uri": "https://localhost:8080/",
          "height": 49,
          "referenced_widgets": [
            "04429f5b86fb4091be0ce401a55268ab",
            "71635940319d4a4bb7b3b6aa82eb9e35",
            "30b107932c0e444d8a6ac964726f9907"
          ]
        }
      },
      "source": [
        "up=fastbook.widgets.FileUpload()\n",
        "up"
      ],
      "execution_count": null,
      "outputs": [
        {
          "output_type": "display_data",
          "data": {
            "application/vnd.jupyter.widget-view+json": {
              "model_id": "04429f5b86fb4091be0ce401a55268ab",
              "version_minor": 0,
              "version_major": 2
            },
            "text/plain": [
              "FileUpload(value={}, description='Upload')"
            ]
          },
          "metadata": {
            "tags": []
          }
        }
      ]
    },
    {
      "cell_type": "code",
      "metadata": {
        "id": "DdCfwa8Dqwc-"
      },
      "source": [
        "out=fastbook.widgets.Output()\n",
        "bt=fastbook.widgets.Button(description=\"Segment\")\n",
        "bt_fld=fastbook.widgets.Button(description=\"Damaged Segment\")"
      ],
      "execution_count": null,
      "outputs": []
    },
    {
      "cell_type": "code",
      "metadata": {
        "id": "atXIbusa7YWh",
        "outputId": "09de6ed1-3f57-43b1-ea4a-d491b0e78266",
        "colab": {
          "base_uri": "https://localhost:8080/",
          "height": 17,
          "referenced_widgets": [
            "3d2be371e3d54a3d9f96f895f4b816a3",
            "b03691a40b194f378a6fa370788f1169"
          ]
        }
      },
      "source": [
        "out"
      ],
      "execution_count": null,
      "outputs": [
        {
          "output_type": "display_data",
          "data": {
            "application/vnd.jupyter.widget-view+json": {
              "model_id": "3d2be371e3d54a3d9f96f895f4b816a3",
              "version_minor": 0,
              "version_major": 2
            },
            "text/plain": [
              "Output()"
            ]
          },
          "metadata": {
            "tags": []
          }
        }
      ]
    },
    {
      "cell_type": "code",
      "metadata": {
        "id": "mrJZhzZNqwar"
      },
      "source": [
        "with out:\n",
        "  out.clear_output() \n",
        "  im=PILImage.create(up.data[-1])\n",
        "  display(im.resize((512,512),resample=3))\n",
        "  \n",
        "  z=im.reshape(1024,1024,resample=Image.BICUBIC)\n",
        "\n",
        "  z=image2tensor(z)\n",
        "  z1=z[:,0:512,0:512]\n",
        "  z2=z[:,0:512,512:1024]\n",
        "  z3=z[:,512:1024,0:512]\n",
        "  z4=z[:,512:1024,512:1024]\n",
        "\n",
        "  z1=z1.permute((1,2,0))\n",
        "  z2=z2.permute((1,2,0))\n",
        "  z3=z3.permute((1,2,0))\n",
        "  z4=z4.permute((1,2,0))\n",
        "\n",
        "  im1=PILImage.create(z1.cpu().numpy())\n",
        "  im2=PILImage.create(z2.cpu().numpy())\n",
        "  im3=PILImage.create(z3.cpu().numpy())\n",
        "  im4=PILImage.create(z4.cpu().numpy())\n",
        "\n",
        "\n",
        "def on_click_flood(change):\n",
        "  print(\"DAMAGED BUILDINGS\")\n",
        "  y1=torch.cat([model_flood.predict(im1)[0],model_flood.predict(im2)[0]],dim=1)\n",
        "  y2=torch.cat([model_flood.predict(im3)[0],model_flood.predict(im4)[0]],dim=1)\n",
        "  y=torch.cat([y1,y2],dim=0)\n",
        "  plt.imshow(y)\n",
        "\n",
        "bt_fld.on_click(on_click_flood)\n",
        "\n",
        "\n",
        "def on_click_segmen(change):\n",
        "  print(\"BUILDINGS\")\n",
        "  x1=torch.cat([model_build.predict(im1)[0],model_build.predict(im2)[0]],dim=1)\n",
        "  x2=torch.cat([model_build.predict(im3)[0],model_build.predict(im4)[0]],dim=1)\n",
        "  x=torch.cat([x1,x2],dim=0)\n",
        "  plt.imshow(x)\n",
        "\n",
        "bt.on_click(on_click_segmen) "
      ],
      "execution_count": null,
      "outputs": []
    },
    {
      "cell_type": "code",
      "metadata": {
        "id": "72OHCaX46358"
      },
      "source": [
        "lb_ch=fastbook.widgets.Label(value=\"Choose Image File\")"
      ],
      "execution_count": null,
      "outputs": []
    },
    {
      "cell_type": "code",
      "metadata": {
        "id": "44Vr20pfqwYF",
        "outputId": "225555ec-18b5-4e5c-ead5-7be47776415b",
        "colab": {
          "base_uri": "https://localhost:8080/",
          "height": 177,
          "referenced_widgets": [
            "266044cef2154b87917005a1584bcffd",
            "bbab14555e0343689bd51d1633f74d05",
            "0e36699f13e74f888ce2e33cce2fb169",
            "04429f5b86fb4091be0ce401a55268ab",
            "3d2be371e3d54a3d9f96f895f4b816a3",
            "f33635b005894dfd9077ac277e123683",
            "b96f64ac354f40feb976866361d9b713",
            "77d2a26876d74dd2a5dd7187d297017d",
            "b4ef7d073f13475a962e478ec6523d42",
            "d7d6a02cad7845568c07be7b4da223b9",
            "71635940319d4a4bb7b3b6aa82eb9e35",
            "30b107932c0e444d8a6ac964726f9907",
            "56872a0bc2024d6d83e20917ca605af4",
            "47df5121d7f34b28a4ce92ee03f43672",
            "38a0b1262de5428499eb0df1b3ac115a",
            "fa75ce169d54454e9fc96f407031616d",
            "280bb15d92624839bf91ab5f39a05a90",
            "5a73e3f00e584a769a3ec28beb087a30",
            "b03691a40b194f378a6fa370788f1169"
          ]
        }
      },
      "source": [
        "fastbook.widgets.VBox([fastbook.widgets.Label('Select the map image'),up,out,bt,bt_fld,lb_ch])"
      ],
      "execution_count": null,
      "outputs": [
        {
          "output_type": "display_data",
          "data": {
            "application/vnd.jupyter.widget-view+json": {
              "model_id": "266044cef2154b87917005a1584bcffd",
              "version_minor": 0,
              "version_major": 2
            },
            "text/plain": [
              "VBox(children=(Label(value='Select the map image'), FileUpload(value={}, description='Upload'), Output(), Butt…"
            ]
          },
          "metadata": {
            "tags": []
          }
        }
      ]
    }
  ]
}